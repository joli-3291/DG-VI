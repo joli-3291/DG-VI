{
 "cells": [
  {
   "cell_type": "markdown",
   "id": "d1afa1ee",
   "metadata": {},
   "source": [
    "G2M insight for Cab Investment firm model building"
   ]
  },
  {
   "cell_type": "code",
   "execution_count": 3,
   "id": "8543503f",
   "metadata": {},
   "outputs": [],
   "source": [
    "#G2M insight for Cab Investment firm \n",
    "import numpy as np\n",
    "import pandas as pd\n",
    "import matplotlib.pyplot as plt\n",
    "%matplotlib inline\n",
    "import seaborn as sns\n",
    "import datetime\n",
    "import xgboost as xgb\n",
    "import lightgbm as lgb\n",
    "from sklearn.model_selection import train_test_split\n",
    "from sklearn.linear_model import LinearRegression\n",
    "from sklearn.model_selection import cross_val_score\n",
    "from sklearn.metrics import mean_squared_error, accuracy_score, classification_report\n",
    "from sklearn.tree import DecisionTreeRegressor\n",
    "from sklearn.metrics import roc_curve\n",
    "from sklearn.ensemble import RandomForestRegressor\n",
    "from xgboost import XGBRegressor\n",
    "from lightgbm import LGBMRegressor\n"
   ]
  },
  {
   "cell_type": "code",
   "execution_count": 4,
   "id": "85c71c52",
   "metadata": {},
   "outputs": [
    {
     "data": {
      "text/html": [
       "<div>\n",
       "<style scoped>\n",
       "    .dataframe tbody tr th:only-of-type {\n",
       "        vertical-align: middle;\n",
       "    }\n",
       "\n",
       "    .dataframe tbody tr th {\n",
       "        vertical-align: top;\n",
       "    }\n",
       "\n",
       "    .dataframe thead th {\n",
       "        text-align: right;\n",
       "    }\n",
       "</style>\n",
       "<table border=\"1\" class=\"dataframe\">\n",
       "  <thead>\n",
       "    <tr style=\"text-align: right;\">\n",
       "      <th></th>\n",
       "      <th>Transaction ID</th>\n",
       "      <th>Date of Travel</th>\n",
       "      <th>Company</th>\n",
       "      <th>City</th>\n",
       "      <th>KM Travelled</th>\n",
       "      <th>Price Charged</th>\n",
       "      <th>Cost of Trip</th>\n",
       "    </tr>\n",
       "  </thead>\n",
       "  <tbody>\n",
       "    <tr>\n",
       "      <th>0</th>\n",
       "      <td>10000011</td>\n",
       "      <td>08-01-2016</td>\n",
       "      <td>Pink Cab</td>\n",
       "      <td>ATLANTA GA</td>\n",
       "      <td>30.45</td>\n",
       "      <td>370.95</td>\n",
       "      <td>313.635</td>\n",
       "    </tr>\n",
       "    <tr>\n",
       "      <th>1</th>\n",
       "      <td>10000012</td>\n",
       "      <td>06-01-2016</td>\n",
       "      <td>Pink Cab</td>\n",
       "      <td>ATLANTA GA</td>\n",
       "      <td>28.62</td>\n",
       "      <td>358.52</td>\n",
       "      <td>334.854</td>\n",
       "    </tr>\n",
       "    <tr>\n",
       "      <th>2</th>\n",
       "      <td>10000013</td>\n",
       "      <td>02-01-2016</td>\n",
       "      <td>Pink Cab</td>\n",
       "      <td>ATLANTA GA</td>\n",
       "      <td>9.04</td>\n",
       "      <td>125.20</td>\n",
       "      <td>97.632</td>\n",
       "    </tr>\n",
       "    <tr>\n",
       "      <th>3</th>\n",
       "      <td>10000014</td>\n",
       "      <td>07-01-2016</td>\n",
       "      <td>Pink Cab</td>\n",
       "      <td>ATLANTA GA</td>\n",
       "      <td>33.17</td>\n",
       "      <td>377.40</td>\n",
       "      <td>351.602</td>\n",
       "    </tr>\n",
       "    <tr>\n",
       "      <th>4</th>\n",
       "      <td>10000015</td>\n",
       "      <td>03-01-2016</td>\n",
       "      <td>Pink Cab</td>\n",
       "      <td>ATLANTA GA</td>\n",
       "      <td>8.73</td>\n",
       "      <td>114.62</td>\n",
       "      <td>97.776</td>\n",
       "    </tr>\n",
       "  </tbody>\n",
       "</table>\n",
       "</div>"
      ],
      "text/plain": [
       "   Transaction ID Date of Travel   Company        City  KM Travelled  \\\n",
       "0        10000011     08-01-2016  Pink Cab  ATLANTA GA         30.45   \n",
       "1        10000012     06-01-2016  Pink Cab  ATLANTA GA         28.62   \n",
       "2        10000013     02-01-2016  Pink Cab  ATLANTA GA          9.04   \n",
       "3        10000014     07-01-2016  Pink Cab  ATLANTA GA         33.17   \n",
       "4        10000015     03-01-2016  Pink Cab  ATLANTA GA          8.73   \n",
       "\n",
       "   Price Charged  Cost of Trip  \n",
       "0         370.95       313.635  \n",
       "1         358.52       334.854  \n",
       "2         125.20        97.632  \n",
       "3         377.40       351.602  \n",
       "4         114.62        97.776  "
      ]
     },
     "execution_count": 4,
     "metadata": {},
     "output_type": "execute_result"
    }
   ],
   "source": [
    "cab_data = pd.read_csv(\"Desktop/Cab_Data.csv\")\n",
    "CustomerID_data=pd.read_csv(\"Desktop/Customer_ID.csv\")\n",
    "TransactionID_data=pd.read_csv(\"Desktop/Transaction_ID.csv\")\n",
    "City_data=pd.read_csv(\"Desktop/City.csv\")\n",
    "\n",
    "cab_data.head()\n",
    "\n"
   ]
  },
  {
   "cell_type": "code",
   "execution_count": 5,
   "id": "4a511cf5",
   "metadata": {},
   "outputs": [
    {
     "data": {
      "text/html": [
       "<div>\n",
       "<style scoped>\n",
       "    .dataframe tbody tr th:only-of-type {\n",
       "        vertical-align: middle;\n",
       "    }\n",
       "\n",
       "    .dataframe tbody tr th {\n",
       "        vertical-align: top;\n",
       "    }\n",
       "\n",
       "    .dataframe thead th {\n",
       "        text-align: right;\n",
       "    }\n",
       "</style>\n",
       "<table border=\"1\" class=\"dataframe\">\n",
       "  <thead>\n",
       "    <tr style=\"text-align: right;\">\n",
       "      <th></th>\n",
       "      <th>Transaction ID</th>\n",
       "      <th>Date of Travel</th>\n",
       "      <th>Company</th>\n",
       "      <th>City</th>\n",
       "      <th>KM Travelled</th>\n",
       "      <th>Price Charged</th>\n",
       "      <th>Cost of Trip</th>\n",
       "    </tr>\n",
       "  </thead>\n",
       "  <tbody>\n",
       "    <tr>\n",
       "      <th>359387</th>\n",
       "      <td>10440101</td>\n",
       "      <td>08-01-2018</td>\n",
       "      <td>Yellow Cab</td>\n",
       "      <td>WASHINGTON DC</td>\n",
       "      <td>4.80</td>\n",
       "      <td>69.24</td>\n",
       "      <td>63.3600</td>\n",
       "    </tr>\n",
       "    <tr>\n",
       "      <th>359388</th>\n",
       "      <td>10440104</td>\n",
       "      <td>04-01-2018</td>\n",
       "      <td>Yellow Cab</td>\n",
       "      <td>WASHINGTON DC</td>\n",
       "      <td>8.40</td>\n",
       "      <td>113.75</td>\n",
       "      <td>106.8480</td>\n",
       "    </tr>\n",
       "    <tr>\n",
       "      <th>359389</th>\n",
       "      <td>10440105</td>\n",
       "      <td>05-01-2018</td>\n",
       "      <td>Yellow Cab</td>\n",
       "      <td>WASHINGTON DC</td>\n",
       "      <td>27.75</td>\n",
       "      <td>437.07</td>\n",
       "      <td>349.6500</td>\n",
       "    </tr>\n",
       "    <tr>\n",
       "      <th>359390</th>\n",
       "      <td>10440106</td>\n",
       "      <td>05-01-2018</td>\n",
       "      <td>Yellow Cab</td>\n",
       "      <td>WASHINGTON DC</td>\n",
       "      <td>8.80</td>\n",
       "      <td>146.19</td>\n",
       "      <td>114.0480</td>\n",
       "    </tr>\n",
       "    <tr>\n",
       "      <th>359391</th>\n",
       "      <td>10440107</td>\n",
       "      <td>02-01-2018</td>\n",
       "      <td>Yellow Cab</td>\n",
       "      <td>WASHINGTON DC</td>\n",
       "      <td>12.76</td>\n",
       "      <td>191.58</td>\n",
       "      <td>177.6192</td>\n",
       "    </tr>\n",
       "  </tbody>\n",
       "</table>\n",
       "</div>"
      ],
      "text/plain": [
       "        Transaction ID Date of Travel     Company           City  \\\n",
       "359387        10440101     08-01-2018  Yellow Cab  WASHINGTON DC   \n",
       "359388        10440104     04-01-2018  Yellow Cab  WASHINGTON DC   \n",
       "359389        10440105     05-01-2018  Yellow Cab  WASHINGTON DC   \n",
       "359390        10440106     05-01-2018  Yellow Cab  WASHINGTON DC   \n",
       "359391        10440107     02-01-2018  Yellow Cab  WASHINGTON DC   \n",
       "\n",
       "        KM Travelled  Price Charged  Cost of Trip  \n",
       "359387          4.80          69.24       63.3600  \n",
       "359388          8.40         113.75      106.8480  \n",
       "359389         27.75         437.07      349.6500  \n",
       "359390          8.80         146.19      114.0480  \n",
       "359391         12.76         191.58      177.6192  "
      ]
     },
     "execution_count": 5,
     "metadata": {},
     "output_type": "execute_result"
    }
   ],
   "source": [
    "cab_data.tail()\n"
   ]
  },
  {
   "cell_type": "code",
   "execution_count": 6,
   "id": "e4c2cf60",
   "metadata": {},
   "outputs": [
    {
     "data": {
      "text/html": [
       "<div>\n",
       "<style scoped>\n",
       "    .dataframe tbody tr th:only-of-type {\n",
       "        vertical-align: middle;\n",
       "    }\n",
       "\n",
       "    .dataframe tbody tr th {\n",
       "        vertical-align: top;\n",
       "    }\n",
       "\n",
       "    .dataframe thead th {\n",
       "        text-align: right;\n",
       "    }\n",
       "</style>\n",
       "<table border=\"1\" class=\"dataframe\">\n",
       "  <thead>\n",
       "    <tr style=\"text-align: right;\">\n",
       "      <th></th>\n",
       "      <th>Transaction ID</th>\n",
       "      <th>Customer ID</th>\n",
       "      <th>Payment_Mode</th>\n",
       "    </tr>\n",
       "  </thead>\n",
       "  <tbody>\n",
       "    <tr>\n",
       "      <th>0</th>\n",
       "      <td>10000011</td>\n",
       "      <td>29290</td>\n",
       "      <td>Card</td>\n",
       "    </tr>\n",
       "    <tr>\n",
       "      <th>1</th>\n",
       "      <td>10000012</td>\n",
       "      <td>27703</td>\n",
       "      <td>Card</td>\n",
       "    </tr>\n",
       "    <tr>\n",
       "      <th>2</th>\n",
       "      <td>10000013</td>\n",
       "      <td>28712</td>\n",
       "      <td>Cash</td>\n",
       "    </tr>\n",
       "    <tr>\n",
       "      <th>3</th>\n",
       "      <td>10000014</td>\n",
       "      <td>28020</td>\n",
       "      <td>Cash</td>\n",
       "    </tr>\n",
       "    <tr>\n",
       "      <th>4</th>\n",
       "      <td>10000015</td>\n",
       "      <td>27182</td>\n",
       "      <td>Card</td>\n",
       "    </tr>\n",
       "  </tbody>\n",
       "</table>\n",
       "</div>"
      ],
      "text/plain": [
       "   Transaction ID  Customer ID Payment_Mode\n",
       "0        10000011        29290         Card\n",
       "1        10000012        27703         Card\n",
       "2        10000013        28712         Cash\n",
       "3        10000014        28020         Cash\n",
       "4        10000015        27182         Card"
      ]
     },
     "execution_count": 6,
     "metadata": {},
     "output_type": "execute_result"
    }
   ],
   "source": [
    "TransactionID_data.head()"
   ]
  },
  {
   "cell_type": "code",
   "execution_count": 7,
   "id": "be00a2d3",
   "metadata": {},
   "outputs": [
    {
     "data": {
      "text/html": [
       "<div>\n",
       "<style scoped>\n",
       "    .dataframe tbody tr th:only-of-type {\n",
       "        vertical-align: middle;\n",
       "    }\n",
       "\n",
       "    .dataframe tbody tr th {\n",
       "        vertical-align: top;\n",
       "    }\n",
       "\n",
       "    .dataframe thead th {\n",
       "        text-align: right;\n",
       "    }\n",
       "</style>\n",
       "<table border=\"1\" class=\"dataframe\">\n",
       "  <thead>\n",
       "    <tr style=\"text-align: right;\">\n",
       "      <th></th>\n",
       "      <th>Transaction ID</th>\n",
       "      <th>Customer ID</th>\n",
       "      <th>Payment_Mode</th>\n",
       "    </tr>\n",
       "  </thead>\n",
       "  <tbody>\n",
       "    <tr>\n",
       "      <th>440093</th>\n",
       "      <td>10440104</td>\n",
       "      <td>53286</td>\n",
       "      <td>Cash</td>\n",
       "    </tr>\n",
       "    <tr>\n",
       "      <th>440094</th>\n",
       "      <td>10440105</td>\n",
       "      <td>52265</td>\n",
       "      <td>Cash</td>\n",
       "    </tr>\n",
       "    <tr>\n",
       "      <th>440095</th>\n",
       "      <td>10440106</td>\n",
       "      <td>52175</td>\n",
       "      <td>Card</td>\n",
       "    </tr>\n",
       "    <tr>\n",
       "      <th>440096</th>\n",
       "      <td>10440107</td>\n",
       "      <td>52917</td>\n",
       "      <td>Card</td>\n",
       "    </tr>\n",
       "    <tr>\n",
       "      <th>440097</th>\n",
       "      <td>10440108</td>\n",
       "      <td>51587</td>\n",
       "      <td>Card</td>\n",
       "    </tr>\n",
       "  </tbody>\n",
       "</table>\n",
       "</div>"
      ],
      "text/plain": [
       "        Transaction ID  Customer ID Payment_Mode\n",
       "440093        10440104        53286         Cash\n",
       "440094        10440105        52265         Cash\n",
       "440095        10440106        52175         Card\n",
       "440096        10440107        52917         Card\n",
       "440097        10440108        51587         Card"
      ]
     },
     "execution_count": 7,
     "metadata": {},
     "output_type": "execute_result"
    }
   ],
   "source": [
    "TransactionID_data.tail()"
   ]
  },
  {
   "cell_type": "code",
   "execution_count": 8,
   "id": "6f60b76a",
   "metadata": {},
   "outputs": [
    {
     "data": {
      "text/html": [
       "<div>\n",
       "<style scoped>\n",
       "    .dataframe tbody tr th:only-of-type {\n",
       "        vertical-align: middle;\n",
       "    }\n",
       "\n",
       "    .dataframe tbody tr th {\n",
       "        vertical-align: top;\n",
       "    }\n",
       "\n",
       "    .dataframe thead th {\n",
       "        text-align: right;\n",
       "    }\n",
       "</style>\n",
       "<table border=\"1\" class=\"dataframe\">\n",
       "  <thead>\n",
       "    <tr style=\"text-align: right;\">\n",
       "      <th></th>\n",
       "      <th>Customer ID</th>\n",
       "      <th>Gender</th>\n",
       "      <th>Age</th>\n",
       "      <th>Income (USD/Month)</th>\n",
       "    </tr>\n",
       "  </thead>\n",
       "  <tbody>\n",
       "    <tr>\n",
       "      <th>0</th>\n",
       "      <td>29290</td>\n",
       "      <td>Male</td>\n",
       "      <td>28</td>\n",
       "      <td>10813</td>\n",
       "    </tr>\n",
       "    <tr>\n",
       "      <th>1</th>\n",
       "      <td>27703</td>\n",
       "      <td>Male</td>\n",
       "      <td>27</td>\n",
       "      <td>9237</td>\n",
       "    </tr>\n",
       "    <tr>\n",
       "      <th>2</th>\n",
       "      <td>28712</td>\n",
       "      <td>Male</td>\n",
       "      <td>53</td>\n",
       "      <td>11242</td>\n",
       "    </tr>\n",
       "    <tr>\n",
       "      <th>3</th>\n",
       "      <td>28020</td>\n",
       "      <td>Male</td>\n",
       "      <td>23</td>\n",
       "      <td>23327</td>\n",
       "    </tr>\n",
       "    <tr>\n",
       "      <th>4</th>\n",
       "      <td>27182</td>\n",
       "      <td>Male</td>\n",
       "      <td>33</td>\n",
       "      <td>8536</td>\n",
       "    </tr>\n",
       "  </tbody>\n",
       "</table>\n",
       "</div>"
      ],
      "text/plain": [
       "   Customer ID Gender  Age  Income (USD/Month)\n",
       "0        29290   Male   28               10813\n",
       "1        27703   Male   27                9237\n",
       "2        28712   Male   53               11242\n",
       "3        28020   Male   23               23327\n",
       "4        27182   Male   33                8536"
      ]
     },
     "execution_count": 8,
     "metadata": {},
     "output_type": "execute_result"
    }
   ],
   "source": [
    "CustomerID_data.head()"
   ]
  },
  {
   "cell_type": "code",
   "execution_count": 9,
   "id": "a3f27cb9",
   "metadata": {},
   "outputs": [
    {
     "data": {
      "text/html": [
       "<div>\n",
       "<style scoped>\n",
       "    .dataframe tbody tr th:only-of-type {\n",
       "        vertical-align: middle;\n",
       "    }\n",
       "\n",
       "    .dataframe tbody tr th {\n",
       "        vertical-align: top;\n",
       "    }\n",
       "\n",
       "    .dataframe thead th {\n",
       "        text-align: right;\n",
       "    }\n",
       "</style>\n",
       "<table border=\"1\" class=\"dataframe\">\n",
       "  <thead>\n",
       "    <tr style=\"text-align: right;\">\n",
       "      <th></th>\n",
       "      <th>Customer ID</th>\n",
       "      <th>Gender</th>\n",
       "      <th>Age</th>\n",
       "      <th>Income (USD/Month)</th>\n",
       "    </tr>\n",
       "  </thead>\n",
       "  <tbody>\n",
       "    <tr>\n",
       "      <th>49166</th>\n",
       "      <td>12490</td>\n",
       "      <td>Male</td>\n",
       "      <td>33</td>\n",
       "      <td>18713</td>\n",
       "    </tr>\n",
       "    <tr>\n",
       "      <th>49167</th>\n",
       "      <td>14971</td>\n",
       "      <td>Male</td>\n",
       "      <td>30</td>\n",
       "      <td>15346</td>\n",
       "    </tr>\n",
       "    <tr>\n",
       "      <th>49168</th>\n",
       "      <td>41414</td>\n",
       "      <td>Male</td>\n",
       "      <td>38</td>\n",
       "      <td>3960</td>\n",
       "    </tr>\n",
       "    <tr>\n",
       "      <th>49169</th>\n",
       "      <td>41677</td>\n",
       "      <td>Male</td>\n",
       "      <td>23</td>\n",
       "      <td>19454</td>\n",
       "    </tr>\n",
       "    <tr>\n",
       "      <th>49170</th>\n",
       "      <td>39761</td>\n",
       "      <td>Female</td>\n",
       "      <td>32</td>\n",
       "      <td>10128</td>\n",
       "    </tr>\n",
       "  </tbody>\n",
       "</table>\n",
       "</div>"
      ],
      "text/plain": [
       "       Customer ID  Gender  Age  Income (USD/Month)\n",
       "49166        12490    Male   33               18713\n",
       "49167        14971    Male   30               15346\n",
       "49168        41414    Male   38                3960\n",
       "49169        41677    Male   23               19454\n",
       "49170        39761  Female   32               10128"
      ]
     },
     "execution_count": 9,
     "metadata": {},
     "output_type": "execute_result"
    }
   ],
   "source": [
    "CustomerID_data.tail()"
   ]
  },
  {
   "cell_type": "code",
   "execution_count": 10,
   "id": "4470e60e",
   "metadata": {},
   "outputs": [
    {
     "data": {
      "text/html": [
       "<div>\n",
       "<style scoped>\n",
       "    .dataframe tbody tr th:only-of-type {\n",
       "        vertical-align: middle;\n",
       "    }\n",
       "\n",
       "    .dataframe tbody tr th {\n",
       "        vertical-align: top;\n",
       "    }\n",
       "\n",
       "    .dataframe thead th {\n",
       "        text-align: right;\n",
       "    }\n",
       "</style>\n",
       "<table border=\"1\" class=\"dataframe\">\n",
       "  <thead>\n",
       "    <tr style=\"text-align: right;\">\n",
       "      <th></th>\n",
       "      <th>City</th>\n",
       "      <th>Population</th>\n",
       "      <th>Users</th>\n",
       "    </tr>\n",
       "  </thead>\n",
       "  <tbody>\n",
       "    <tr>\n",
       "      <th>0</th>\n",
       "      <td>NEW YORK NY</td>\n",
       "      <td>8,405,837</td>\n",
       "      <td>302,149</td>\n",
       "    </tr>\n",
       "    <tr>\n",
       "      <th>1</th>\n",
       "      <td>CHICAGO IL</td>\n",
       "      <td>1,955,130</td>\n",
       "      <td>164,468</td>\n",
       "    </tr>\n",
       "    <tr>\n",
       "      <th>2</th>\n",
       "      <td>LOS ANGELES CA</td>\n",
       "      <td>1,595,037</td>\n",
       "      <td>144,132</td>\n",
       "    </tr>\n",
       "    <tr>\n",
       "      <th>3</th>\n",
       "      <td>MIAMI FL</td>\n",
       "      <td>1,339,155</td>\n",
       "      <td>17,675</td>\n",
       "    </tr>\n",
       "    <tr>\n",
       "      <th>4</th>\n",
       "      <td>SILICON VALLEY</td>\n",
       "      <td>1,177,609</td>\n",
       "      <td>27,247</td>\n",
       "    </tr>\n",
       "  </tbody>\n",
       "</table>\n",
       "</div>"
      ],
      "text/plain": [
       "             City   Population      Users\n",
       "0     NEW YORK NY   8,405,837    302,149 \n",
       "1      CHICAGO IL   1,955,130    164,468 \n",
       "2  LOS ANGELES CA   1,595,037    144,132 \n",
       "3        MIAMI FL   1,339,155     17,675 \n",
       "4  SILICON VALLEY   1,177,609     27,247 "
      ]
     },
     "execution_count": 10,
     "metadata": {},
     "output_type": "execute_result"
    }
   ],
   "source": [
    "City_data.head()"
   ]
  },
  {
   "cell_type": "code",
   "execution_count": 11,
   "id": "18fb0f5d",
   "metadata": {},
   "outputs": [
    {
     "data": {
      "text/html": [
       "<div>\n",
       "<style scoped>\n",
       "    .dataframe tbody tr th:only-of-type {\n",
       "        vertical-align: middle;\n",
       "    }\n",
       "\n",
       "    .dataframe tbody tr th {\n",
       "        vertical-align: top;\n",
       "    }\n",
       "\n",
       "    .dataframe thead th {\n",
       "        text-align: right;\n",
       "    }\n",
       "</style>\n",
       "<table border=\"1\" class=\"dataframe\">\n",
       "  <thead>\n",
       "    <tr style=\"text-align: right;\">\n",
       "      <th></th>\n",
       "      <th>City</th>\n",
       "      <th>Population</th>\n",
       "      <th>Users</th>\n",
       "    </tr>\n",
       "  </thead>\n",
       "  <tbody>\n",
       "    <tr>\n",
       "      <th>15</th>\n",
       "      <td>SACRAMENTO CA</td>\n",
       "      <td>545,776</td>\n",
       "      <td>7,044</td>\n",
       "    </tr>\n",
       "    <tr>\n",
       "      <th>16</th>\n",
       "      <td>PITTSBURGH PA</td>\n",
       "      <td>542,085</td>\n",
       "      <td>3,643</td>\n",
       "    </tr>\n",
       "    <tr>\n",
       "      <th>17</th>\n",
       "      <td>WASHINGTON DC</td>\n",
       "      <td>418,859</td>\n",
       "      <td>127,001</td>\n",
       "    </tr>\n",
       "    <tr>\n",
       "      <th>18</th>\n",
       "      <td>NASHVILLE TN</td>\n",
       "      <td>327,225</td>\n",
       "      <td>9,270</td>\n",
       "    </tr>\n",
       "    <tr>\n",
       "      <th>19</th>\n",
       "      <td>BOSTON MA</td>\n",
       "      <td>248,968</td>\n",
       "      <td>80,021</td>\n",
       "    </tr>\n",
       "  </tbody>\n",
       "</table>\n",
       "</div>"
      ],
      "text/plain": [
       "             City Population      Users\n",
       "15  SACRAMENTO CA   545,776      7,044 \n",
       "16  PITTSBURGH PA   542,085      3,643 \n",
       "17  WASHINGTON DC   418,859    127,001 \n",
       "18   NASHVILLE TN   327,225      9,270 \n",
       "19      BOSTON MA   248,968     80,021 "
      ]
     },
     "execution_count": 11,
     "metadata": {},
     "output_type": "execute_result"
    }
   ],
   "source": [
    "City_data.tail()"
   ]
  },
  {
   "cell_type": "code",
   "execution_count": 12,
   "id": "c5f4837c",
   "metadata": {},
   "outputs": [
    {
     "name": "stdout",
     "output_type": "stream",
     "text": [
      "shape of Cab_Data (359392, 7)\n",
      "shape of Customer_ID (49171, 4)\n",
      "shape of Transaction_ID (440098, 3)\n",
      "shape of City Data (20, 3)\n"
     ]
    }
   ],
   "source": [
    "# Check the shape of whole dataset\n",
    "print(\"shape of Cab_Data\", cab_data.shape)\n",
    "print(\"shape of Customer_ID\", CustomerID_data.shape)\n",
    "print(\"shape of Transaction_ID\", TransactionID_data.shape)\n",
    "print(\"shape of City Data\", City_data.shape)\n"
   ]
  },
  {
   "cell_type": "code",
   "execution_count": 13,
   "id": "c440bfeb",
   "metadata": {},
   "outputs": [
    {
     "name": "stdout",
     "output_type": "stream",
     "text": [
      "<class 'pandas.core.frame.DataFrame'>\n",
      "RangeIndex: 359392 entries, 0 to 359391\n",
      "Data columns (total 7 columns):\n",
      " #   Column          Non-Null Count   Dtype  \n",
      "---  ------          --------------   -----  \n",
      " 0   Transaction ID  359392 non-null  int64  \n",
      " 1   Date of Travel  359392 non-null  object \n",
      " 2   Company         359392 non-null  object \n",
      " 3   City            359392 non-null  object \n",
      " 4   KM Travelled    359392 non-null  float64\n",
      " 5   Price Charged   359392 non-null  float64\n",
      " 6   Cost of Trip    359392 non-null  float64\n",
      "dtypes: float64(3), int64(1), object(3)\n",
      "memory usage: 19.2+ MB\n",
      "None\n",
      "<class 'pandas.core.frame.DataFrame'>\n",
      "RangeIndex: 49171 entries, 0 to 49170\n",
      "Data columns (total 4 columns):\n",
      " #   Column              Non-Null Count  Dtype \n",
      "---  ------              --------------  ----- \n",
      " 0   Customer ID         49171 non-null  int64 \n",
      " 1   Gender              49171 non-null  object\n",
      " 2   Age                 49171 non-null  int64 \n",
      " 3   Income (USD/Month)  49171 non-null  int64 \n",
      "dtypes: int64(3), object(1)\n",
      "memory usage: 1.5+ MB\n",
      "None\n",
      "<class 'pandas.core.frame.DataFrame'>\n",
      "RangeIndex: 440098 entries, 0 to 440097\n",
      "Data columns (total 3 columns):\n",
      " #   Column          Non-Null Count   Dtype \n",
      "---  ------          --------------   ----- \n",
      " 0   Transaction ID  440098 non-null  int64 \n",
      " 1   Customer ID     440098 non-null  int64 \n",
      " 2   Payment_Mode    440098 non-null  object\n",
      "dtypes: int64(2), object(1)\n",
      "memory usage: 10.1+ MB\n",
      "None\n",
      "<class 'pandas.core.frame.DataFrame'>\n",
      "RangeIndex: 20 entries, 0 to 19\n",
      "Data columns (total 3 columns):\n",
      " #   Column      Non-Null Count  Dtype \n",
      "---  ------      --------------  ----- \n",
      " 0   City        20 non-null     object\n",
      " 1   Population  20 non-null     object\n",
      " 2   Users       20 non-null     object\n",
      "dtypes: object(3)\n",
      "memory usage: 608.0+ bytes\n",
      "None\n"
     ]
    }
   ],
   "source": [
    "# check the basic information \n",
    "print(cab_data.info())\n",
    "print(CustomerID_data.info())\n",
    "print(TransactionID_data.info())\n",
    "print(City_data.info())"
   ]
  },
  {
   "cell_type": "code",
   "execution_count": 14,
   "id": "a190636e",
   "metadata": {},
   "outputs": [
    {
     "data": {
      "text/plain": [
       "Transaction ID    0\n",
       "Date of Travel    0\n",
       "Company           0\n",
       "City              0\n",
       "KM Travelled      0\n",
       "Price Charged     0\n",
       "Cost of Trip      0\n",
       "dtype: int64"
      ]
     },
     "execution_count": 14,
     "metadata": {},
     "output_type": "execute_result"
    }
   ],
   "source": [
    "cab_data.isnull().sum() + cab_data.isna().sum()"
   ]
  },
  {
   "cell_type": "code",
   "execution_count": 15,
   "id": "386bba0f",
   "metadata": {},
   "outputs": [
    {
     "data": {
      "text/plain": [
       "Transaction ID    0\n",
       "Customer ID       0\n",
       "Payment_Mode      0\n",
       "dtype: int64"
      ]
     },
     "execution_count": 15,
     "metadata": {},
     "output_type": "execute_result"
    }
   ],
   "source": [
    "TransactionID_data.isnull().sum() + TransactionID_data.isna().sum()"
   ]
  },
  {
   "cell_type": "code",
   "execution_count": 16,
   "id": "944579d9",
   "metadata": {},
   "outputs": [
    {
     "data": {
      "text/plain": [
       "Customer ID           0\n",
       "Gender                0\n",
       "Age                   0\n",
       "Income (USD/Month)    0\n",
       "dtype: int64"
      ]
     },
     "execution_count": 16,
     "metadata": {},
     "output_type": "execute_result"
    }
   ],
   "source": [
    "CustomerID_data.isnull().sum() + CustomerID_data.isna().sum()"
   ]
  },
  {
   "cell_type": "code",
   "execution_count": 17,
   "id": "401bcd00",
   "metadata": {},
   "outputs": [
    {
     "data": {
      "text/plain": [
       "City          0\n",
       "Population    0\n",
       "Users         0\n",
       "dtype: int64"
      ]
     },
     "execution_count": 17,
     "metadata": {},
     "output_type": "execute_result"
    }
   ],
   "source": [
    "City_data.isnull().sum() + City_data.isna().sum()"
   ]
  },
  {
   "cell_type": "code",
   "execution_count": 18,
   "id": "4292908a",
   "metadata": {},
   "outputs": [],
   "source": [
    "for col in cab_data.columns:\n",
    "    if ' ' in col:\n",
    "        cab_data = cab_data.rename(columns={col:col.replace(' ','_')})\n",
    "for col in TransactionID_data.columns:\n",
    "    if ' ' in col:\n",
    "        TransactionID_data = TransactionID_data.rename(columns={col:col.replace(' ','_')})\n",
    "for col in CustomerID_data.columns:\n",
    "    if ' ' in col:\n",
    "        CustomerID_data = CustomerID_data.rename(columns={col:col.replace(' ','_')})\n",
    "cab_data['Date_of_Travel'] = pd.to_datetime(cab_data['Date_of_Travel'])\n",
    "\n",
    "months=[]\n",
    "years =[]\n",
    "for i in range(len(cab_data['Date_of_Travel'])):\n",
    "    months.append(cab_data['Date_of_Travel'][i].month)\n",
    "    years.append(cab_data['Date_of_Travel'][i].year)\n",
    "cab_data['Month'] = months\n",
    "cab_data['Year'] = years\n",
    "\n",
    "cab_data.drop('Date_of_Travel', axis=1, inplace=True)\n"
   ]
  },
  {
   "cell_type": "code",
   "execution_count": 19,
   "id": "fb676b1d",
   "metadata": {},
   "outputs": [
    {
     "data": {
      "text/html": [
       "<div>\n",
       "<style scoped>\n",
       "    .dataframe tbody tr th:only-of-type {\n",
       "        vertical-align: middle;\n",
       "    }\n",
       "\n",
       "    .dataframe tbody tr th {\n",
       "        vertical-align: top;\n",
       "    }\n",
       "\n",
       "    .dataframe thead th {\n",
       "        text-align: right;\n",
       "    }\n",
       "</style>\n",
       "<table border=\"1\" class=\"dataframe\">\n",
       "  <thead>\n",
       "    <tr style=\"text-align: right;\">\n",
       "      <th></th>\n",
       "      <th></th>\n",
       "      <th></th>\n",
       "      <th></th>\n",
       "      <th>Company</th>\n",
       "      <th>KM_Travelled</th>\n",
       "      <th>Price_Charged</th>\n",
       "      <th>Cost_of_Trip</th>\n",
       "      <th>Month</th>\n",
       "      <th>Year</th>\n",
       "      <th>Payment_Mode</th>\n",
       "      <th>Gender</th>\n",
       "      <th>Age</th>\n",
       "      <th>Income_(USD/Month)</th>\n",
       "      <th>Population</th>\n",
       "      <th>Users</th>\n",
       "    </tr>\n",
       "    <tr>\n",
       "      <th></th>\n",
       "      <th>Transaction_ID</th>\n",
       "      <th>Customer_ID</th>\n",
       "      <th>City</th>\n",
       "      <th></th>\n",
       "      <th></th>\n",
       "      <th></th>\n",
       "      <th></th>\n",
       "      <th></th>\n",
       "      <th></th>\n",
       "      <th></th>\n",
       "      <th></th>\n",
       "      <th></th>\n",
       "      <th></th>\n",
       "      <th></th>\n",
       "      <th></th>\n",
       "    </tr>\n",
       "  </thead>\n",
       "  <tbody>\n",
       "    <tr>\n",
       "      <th>0</th>\n",
       "      <th>10000011</th>\n",
       "      <th>29290</th>\n",
       "      <th>ATLANTA GA</th>\n",
       "      <td>Pink Cab</td>\n",
       "      <td>30.45</td>\n",
       "      <td>370.95</td>\n",
       "      <td>313.635</td>\n",
       "      <td>8</td>\n",
       "      <td>2016</td>\n",
       "      <td>Card</td>\n",
       "      <td>Male</td>\n",
       "      <td>28</td>\n",
       "      <td>10813</td>\n",
       "      <td>814,885</td>\n",
       "      <td>24,701</td>\n",
       "    </tr>\n",
       "    <tr>\n",
       "      <th>1</th>\n",
       "      <th>10000012</th>\n",
       "      <th>27703</th>\n",
       "      <th>ATLANTA GA</th>\n",
       "      <td>Pink Cab</td>\n",
       "      <td>28.62</td>\n",
       "      <td>358.52</td>\n",
       "      <td>334.854</td>\n",
       "      <td>6</td>\n",
       "      <td>2016</td>\n",
       "      <td>Card</td>\n",
       "      <td>Male</td>\n",
       "      <td>27</td>\n",
       "      <td>9237</td>\n",
       "      <td>814,885</td>\n",
       "      <td>24,701</td>\n",
       "    </tr>\n",
       "    <tr>\n",
       "      <th>2</th>\n",
       "      <th>10000013</th>\n",
       "      <th>28712</th>\n",
       "      <th>ATLANTA GA</th>\n",
       "      <td>Pink Cab</td>\n",
       "      <td>9.04</td>\n",
       "      <td>125.20</td>\n",
       "      <td>97.632</td>\n",
       "      <td>2</td>\n",
       "      <td>2016</td>\n",
       "      <td>Cash</td>\n",
       "      <td>Male</td>\n",
       "      <td>53</td>\n",
       "      <td>11242</td>\n",
       "      <td>814,885</td>\n",
       "      <td>24,701</td>\n",
       "    </tr>\n",
       "    <tr>\n",
       "      <th>3</th>\n",
       "      <th>10000014</th>\n",
       "      <th>28020</th>\n",
       "      <th>ATLANTA GA</th>\n",
       "      <td>Pink Cab</td>\n",
       "      <td>33.17</td>\n",
       "      <td>377.40</td>\n",
       "      <td>351.602</td>\n",
       "      <td>7</td>\n",
       "      <td>2016</td>\n",
       "      <td>Cash</td>\n",
       "      <td>Male</td>\n",
       "      <td>23</td>\n",
       "      <td>23327</td>\n",
       "      <td>814,885</td>\n",
       "      <td>24,701</td>\n",
       "    </tr>\n",
       "    <tr>\n",
       "      <th>4</th>\n",
       "      <th>10000015</th>\n",
       "      <th>27182</th>\n",
       "      <th>ATLANTA GA</th>\n",
       "      <td>Pink Cab</td>\n",
       "      <td>8.73</td>\n",
       "      <td>114.62</td>\n",
       "      <td>97.776</td>\n",
       "      <td>3</td>\n",
       "      <td>2016</td>\n",
       "      <td>Card</td>\n",
       "      <td>Male</td>\n",
       "      <td>33</td>\n",
       "      <td>8536</td>\n",
       "      <td>814,885</td>\n",
       "      <td>24,701</td>\n",
       "    </tr>\n",
       "  </tbody>\n",
       "</table>\n",
       "</div>"
      ],
      "text/plain": [
       "                                          Company  KM_Travelled  \\\n",
       "  Transaction_ID Customer_ID City                                 \n",
       "0 10000011       29290       ATLANTA GA  Pink Cab         30.45   \n",
       "1 10000012       27703       ATLANTA GA  Pink Cab         28.62   \n",
       "2 10000013       28712       ATLANTA GA  Pink Cab          9.04   \n",
       "3 10000014       28020       ATLANTA GA  Pink Cab         33.17   \n",
       "4 10000015       27182       ATLANTA GA  Pink Cab          8.73   \n",
       "\n",
       "                                         Price_Charged  Cost_of_Trip  Month  \\\n",
       "  Transaction_ID Customer_ID City                                             \n",
       "0 10000011       29290       ATLANTA GA         370.95       313.635      8   \n",
       "1 10000012       27703       ATLANTA GA         358.52       334.854      6   \n",
       "2 10000013       28712       ATLANTA GA         125.20        97.632      2   \n",
       "3 10000014       28020       ATLANTA GA         377.40       351.602      7   \n",
       "4 10000015       27182       ATLANTA GA         114.62        97.776      3   \n",
       "\n",
       "                                         Year Payment_Mode Gender  Age  \\\n",
       "  Transaction_ID Customer_ID City                                        \n",
       "0 10000011       29290       ATLANTA GA  2016         Card   Male   28   \n",
       "1 10000012       27703       ATLANTA GA  2016         Card   Male   27   \n",
       "2 10000013       28712       ATLANTA GA  2016         Cash   Male   53   \n",
       "3 10000014       28020       ATLANTA GA  2016         Cash   Male   23   \n",
       "4 10000015       27182       ATLANTA GA  2016         Card   Male   33   \n",
       "\n",
       "                                         Income_(USD/Month) Population  \\\n",
       "  Transaction_ID Customer_ID City                                        \n",
       "0 10000011       29290       ATLANTA GA               10813   814,885    \n",
       "1 10000012       27703       ATLANTA GA                9237   814,885    \n",
       "2 10000013       28712       ATLANTA GA               11242   814,885    \n",
       "3 10000014       28020       ATLANTA GA               23327   814,885    \n",
       "4 10000015       27182       ATLANTA GA                8536   814,885    \n",
       "\n",
       "                                            Users  \n",
       "  Transaction_ID Customer_ID City                  \n",
       "0 10000011       29290       ATLANTA GA   24,701   \n",
       "1 10000012       27703       ATLANTA GA   24,701   \n",
       "2 10000013       28712       ATLANTA GA   24,701   \n",
       "3 10000014       28020       ATLANTA GA   24,701   \n",
       "4 10000015       27182       ATLANTA GA   24,701   "
      ]
     },
     "execution_count": 19,
     "metadata": {},
     "output_type": "execute_result"
    }
   ],
   "source": [
    "PinkCab = cab_data[cab_data['Company']=='Pink Cab']\n",
    "YellowCab = cab_data[cab_data['Company']=='Yellow Cab']\n",
    "cab_data.head()\n",
    "\n",
    "#Creating Master Data\n",
    "master_data = cab_data.set_index([cab_data.index,'Transaction_ID']).join(TransactionID_data.set_index(['Transaction_ID']))\n",
    "\n",
    "master_data = master_data.set_index([master_data.index,'Customer_ID']).join(CustomerID_data.set_index(['Customer_ID']))\n",
    "\n",
    "master_data = master_data.set_index([master_data.index,'City']).join(City_data.set_index(['City']))\n",
    "\n",
    "master_data.head()\n"
   ]
  },
  {
   "cell_type": "code",
   "execution_count": 20,
   "id": "5803334f",
   "metadata": {},
   "outputs": [
    {
     "data": {
      "text/html": [
       "<div>\n",
       "<style scoped>\n",
       "    .dataframe tbody tr th:only-of-type {\n",
       "        vertical-align: middle;\n",
       "    }\n",
       "\n",
       "    .dataframe tbody tr th {\n",
       "        vertical-align: top;\n",
       "    }\n",
       "\n",
       "    .dataframe thead th {\n",
       "        text-align: right;\n",
       "    }\n",
       "</style>\n",
       "<table border=\"1\" class=\"dataframe\">\n",
       "  <thead>\n",
       "    <tr style=\"text-align: right;\">\n",
       "      <th></th>\n",
       "      <th></th>\n",
       "      <th></th>\n",
       "      <th></th>\n",
       "      <th>Company</th>\n",
       "      <th>KM_Travelled</th>\n",
       "      <th>Price_Charged</th>\n",
       "      <th>Cost_of_Trip</th>\n",
       "      <th>Month</th>\n",
       "      <th>Year</th>\n",
       "      <th>Payment_Mode</th>\n",
       "      <th>Gender</th>\n",
       "      <th>Age</th>\n",
       "      <th>Income_(USD/Month)</th>\n",
       "      <th>Population</th>\n",
       "      <th>Users</th>\n",
       "    </tr>\n",
       "    <tr>\n",
       "      <th></th>\n",
       "      <th>Transaction_ID</th>\n",
       "      <th>Customer_ID</th>\n",
       "      <th>City</th>\n",
       "      <th></th>\n",
       "      <th></th>\n",
       "      <th></th>\n",
       "      <th></th>\n",
       "      <th></th>\n",
       "      <th></th>\n",
       "      <th></th>\n",
       "      <th></th>\n",
       "      <th></th>\n",
       "      <th></th>\n",
       "      <th></th>\n",
       "      <th></th>\n",
       "    </tr>\n",
       "  </thead>\n",
       "  <tbody>\n",
       "    <tr>\n",
       "      <th>359387</th>\n",
       "      <th>10440101</th>\n",
       "      <th>52392</th>\n",
       "      <th>WASHINGTON DC</th>\n",
       "      <td>Yellow Cab</td>\n",
       "      <td>4.80</td>\n",
       "      <td>69.24</td>\n",
       "      <td>63.3600</td>\n",
       "      <td>8</td>\n",
       "      <td>2018</td>\n",
       "      <td>Cash</td>\n",
       "      <td>Male</td>\n",
       "      <td>24</td>\n",
       "      <td>15651</td>\n",
       "      <td>418,859</td>\n",
       "      <td>127,001</td>\n",
       "    </tr>\n",
       "    <tr>\n",
       "      <th>359388</th>\n",
       "      <th>10440104</th>\n",
       "      <th>53286</th>\n",
       "      <th>WASHINGTON DC</th>\n",
       "      <td>Yellow Cab</td>\n",
       "      <td>8.40</td>\n",
       "      <td>113.75</td>\n",
       "      <td>106.8480</td>\n",
       "      <td>4</td>\n",
       "      <td>2018</td>\n",
       "      <td>Cash</td>\n",
       "      <td>Male</td>\n",
       "      <td>32</td>\n",
       "      <td>6528</td>\n",
       "      <td>418,859</td>\n",
       "      <td>127,001</td>\n",
       "    </tr>\n",
       "    <tr>\n",
       "      <th>359389</th>\n",
       "      <th>10440105</th>\n",
       "      <th>52265</th>\n",
       "      <th>WASHINGTON DC</th>\n",
       "      <td>Yellow Cab</td>\n",
       "      <td>27.75</td>\n",
       "      <td>437.07</td>\n",
       "      <td>349.6500</td>\n",
       "      <td>5</td>\n",
       "      <td>2018</td>\n",
       "      <td>Cash</td>\n",
       "      <td>Male</td>\n",
       "      <td>56</td>\n",
       "      <td>7966</td>\n",
       "      <td>418,859</td>\n",
       "      <td>127,001</td>\n",
       "    </tr>\n",
       "    <tr>\n",
       "      <th>359390</th>\n",
       "      <th>10440106</th>\n",
       "      <th>52175</th>\n",
       "      <th>WASHINGTON DC</th>\n",
       "      <td>Yellow Cab</td>\n",
       "      <td>8.80</td>\n",
       "      <td>146.19</td>\n",
       "      <td>114.0480</td>\n",
       "      <td>5</td>\n",
       "      <td>2018</td>\n",
       "      <td>Card</td>\n",
       "      <td>Male</td>\n",
       "      <td>32</td>\n",
       "      <td>6423</td>\n",
       "      <td>418,859</td>\n",
       "      <td>127,001</td>\n",
       "    </tr>\n",
       "    <tr>\n",
       "      <th>359391</th>\n",
       "      <th>10440107</th>\n",
       "      <th>52917</th>\n",
       "      <th>WASHINGTON DC</th>\n",
       "      <td>Yellow Cab</td>\n",
       "      <td>12.76</td>\n",
       "      <td>191.58</td>\n",
       "      <td>177.6192</td>\n",
       "      <td>2</td>\n",
       "      <td>2018</td>\n",
       "      <td>Card</td>\n",
       "      <td>Male</td>\n",
       "      <td>20</td>\n",
       "      <td>11284</td>\n",
       "      <td>418,859</td>\n",
       "      <td>127,001</td>\n",
       "    </tr>\n",
       "  </tbody>\n",
       "</table>\n",
       "</div>"
      ],
      "text/plain": [
       "                                                    Company  KM_Travelled  \\\n",
       "       Transaction_ID Customer_ID City                                      \n",
       "359387 10440101       52392       WASHINGTON DC  Yellow Cab          4.80   \n",
       "359388 10440104       53286       WASHINGTON DC  Yellow Cab          8.40   \n",
       "359389 10440105       52265       WASHINGTON DC  Yellow Cab         27.75   \n",
       "359390 10440106       52175       WASHINGTON DC  Yellow Cab          8.80   \n",
       "359391 10440107       52917       WASHINGTON DC  Yellow Cab         12.76   \n",
       "\n",
       "                                                 Price_Charged  Cost_of_Trip  \\\n",
       "       Transaction_ID Customer_ID City                                         \n",
       "359387 10440101       52392       WASHINGTON DC          69.24       63.3600   \n",
       "359388 10440104       53286       WASHINGTON DC         113.75      106.8480   \n",
       "359389 10440105       52265       WASHINGTON DC         437.07      349.6500   \n",
       "359390 10440106       52175       WASHINGTON DC         146.19      114.0480   \n",
       "359391 10440107       52917       WASHINGTON DC         191.58      177.6192   \n",
       "\n",
       "                                                 Month  Year Payment_Mode  \\\n",
       "       Transaction_ID Customer_ID City                                      \n",
       "359387 10440101       52392       WASHINGTON DC      8  2018         Cash   \n",
       "359388 10440104       53286       WASHINGTON DC      4  2018         Cash   \n",
       "359389 10440105       52265       WASHINGTON DC      5  2018         Cash   \n",
       "359390 10440106       52175       WASHINGTON DC      5  2018         Card   \n",
       "359391 10440107       52917       WASHINGTON DC      2  2018         Card   \n",
       "\n",
       "                                                Gender  Age  \\\n",
       "       Transaction_ID Customer_ID City                        \n",
       "359387 10440101       52392       WASHINGTON DC   Male   24   \n",
       "359388 10440104       53286       WASHINGTON DC   Male   32   \n",
       "359389 10440105       52265       WASHINGTON DC   Male   56   \n",
       "359390 10440106       52175       WASHINGTON DC   Male   32   \n",
       "359391 10440107       52917       WASHINGTON DC   Male   20   \n",
       "\n",
       "                                                 Income_(USD/Month)  \\\n",
       "       Transaction_ID Customer_ID City                                \n",
       "359387 10440101       52392       WASHINGTON DC               15651   \n",
       "359388 10440104       53286       WASHINGTON DC                6528   \n",
       "359389 10440105       52265       WASHINGTON DC                7966   \n",
       "359390 10440106       52175       WASHINGTON DC                6423   \n",
       "359391 10440107       52917       WASHINGTON DC               11284   \n",
       "\n",
       "                                                Population      Users  \n",
       "       Transaction_ID Customer_ID City                                 \n",
       "359387 10440101       52392       WASHINGTON DC   418,859    127,001   \n",
       "359388 10440104       53286       WASHINGTON DC   418,859    127,001   \n",
       "359389 10440105       52265       WASHINGTON DC   418,859    127,001   \n",
       "359390 10440106       52175       WASHINGTON DC   418,859    127,001   \n",
       "359391 10440107       52917       WASHINGTON DC   418,859    127,001   "
      ]
     },
     "execution_count": 20,
     "metadata": {},
     "output_type": "execute_result"
    }
   ],
   "source": [
    "master_data.tail()"
   ]
  },
  {
   "cell_type": "code",
   "execution_count": 21,
   "id": "c021f2fd",
   "metadata": {},
   "outputs": [
    {
     "name": "stdout",
     "output_type": "stream",
     "text": [
      "<class 'pandas.core.frame.DataFrame'>\n",
      "MultiIndex: 359392 entries, (0, 10000011, 29290, 'ATLANTA GA') to (359391, 10440107, 52917, 'WASHINGTON DC')\n",
      "Data columns (total 12 columns):\n",
      " #   Column              Non-Null Count   Dtype  \n",
      "---  ------              --------------   -----  \n",
      " 0   Company             359392 non-null  object \n",
      " 1   KM_Travelled        359392 non-null  float64\n",
      " 2   Price_Charged       359392 non-null  float64\n",
      " 3   Cost_of_Trip        359392 non-null  float64\n",
      " 4   Month               359392 non-null  int64  \n",
      " 5   Year                359392 non-null  int64  \n",
      " 6   Payment_Mode        359392 non-null  object \n",
      " 7   Gender              359392 non-null  object \n",
      " 8   Age                 359392 non-null  int64  \n",
      " 9   Income_(USD/Month)  359392 non-null  int64  \n",
      " 10  Population          359392 non-null  object \n",
      " 11  Users               359392 non-null  object \n",
      "dtypes: float64(3), int64(4), object(5)\n",
      "memory usage: 60.3+ MB\n"
     ]
    }
   ],
   "source": [
    "master_data.info()"
   ]
  },
  {
   "cell_type": "code",
   "execution_count": 22,
   "id": "69891cac",
   "metadata": {},
   "outputs": [
    {
     "name": "stderr",
     "output_type": "stream",
     "text": [
      "C:\\Users\\iTs\\anaconda3\\lib\\site-packages\\pandas\\core\\frame.py:4906: SettingWithCopyWarning: \n",
      "A value is trying to be set on a copy of a slice from a DataFrame\n",
      "\n",
      "See the caveats in the documentation: https://pandas.pydata.org/pandas-docs/stable/user_guide/indexing.html#returning-a-view-versus-a-copy\n",
      "  return super().drop(\n"
     ]
    }
   ],
   "source": [
    "YellowCab = master_data[master_data['Company']=='Yellow Cab']\n",
    "PinkCab = master_data[master_data['Company']=='Pink Cab']\n",
    "YellowCab.drop(['Company', 'Payment_Mode', 'Gender','Population','Users'], axis=1, inplace=True)\n",
    "PinkCab.drop(['Company', 'Payment_Mode', 'Gender','Population','Users'], axis=1, inplace=True)\n",
    "YellowCab_X = YellowCab.drop(['Price_Charged'], axis=1)\n",
    "YellowCab_y = YellowCab['Price_Charged'].copy()\n",
    "PinkCab_X = PinkCab.drop(['Price_Charged'], axis=1)\n",
    "PinkCab_y = PinkCab['Price_Charged'].copy()\n"
   ]
  },
  {
   "cell_type": "code",
   "execution_count": 24,
   "id": "25291981",
   "metadata": {},
   "outputs": [
    {
     "name": "stdout",
     "output_type": "stream",
     "text": [
      "Train score : 146.3384430110292\n",
      "Test score : 146.75321496823184\n"
     ]
    }
   ],
   "source": [
    "X_train, X_test, y_train, y_test = train_test_split(YellowCab_X, YellowCab_y,test_size=0.2,random_state=42) \n",
    "\n",
    "# Simple Linear Regression\n",
    "model_simple_linear = LinearRegression(fit_intercept=True) # data is not centered, we need an intercept!\n",
    "model_simple_linear.fit(X_train, y_train)\n",
    "LinearRegression(fit_intercept=True)\n",
    "preds_valid = model_simple_linear.predict(X_train)\n",
    "rmse = np.sqrt(mean_squared_error(y_train, preds_valid)) \n",
    "print(f'Train score : {rmse}')\n",
    "\n",
    "predicted = model_simple_linear.predict(X_test)\n",
    "rmse = np.sqrt(mean_squared_error(y_test, predicted))\n",
    "print(f'Test score : {rmse}')\n"
   ]
  },
  {
   "cell_type": "code",
   "execution_count": 25,
   "id": "41ef78a7",
   "metadata": {},
   "outputs": [
    {
     "name": "stdout",
     "output_type": "stream",
     "text": [
      "The accuracy is:  0.7415043837937295\n"
     ]
    }
   ],
   "source": [
    "model = LinearRegression(fit_intercept=True) \n",
    "model.fit(X_train, y_train)\n",
    "LinearRegression(fit_intercept=True) \n",
    "accuracyl_YellowCab = model.score(X_test,y_test)\n",
    "print('The accuracy is: ', accuracyl_YellowCab)\n",
    "\n"
   ]
  },
  {
   "cell_type": "code",
   "execution_count": 26,
   "id": "b32c7586",
   "metadata": {},
   "outputs": [
    {
     "name": "stdout",
     "output_type": "stream",
     "text": [
      "Train score : 0.0885890600551407\n",
      "Test score : 210.30843292007225\n"
     ]
    }
   ],
   "source": [
    "dtree = DecisionTreeRegressor()\n",
    "\n",
    "dtree.fit(X_train, y_train)\n",
    "\n",
    "preds_valid = dtree.predict(X_train)\n",
    "\n",
    "rmse = np.sqrt(mean_squared_error(y_train, preds_valid)) \n",
    "print(f'Train score : {rmse}')\n",
    "predicted = dtree.predict(X_test)\n",
    "rmse = np.sqrt(mean_squared_error(y_test, predicted))\n",
    "print(f'Test score : {rmse}')\n"
   ]
  },
  {
   "cell_type": "code",
   "execution_count": 27,
   "id": "0f93503e",
   "metadata": {},
   "outputs": [
    {
     "name": "stdout",
     "output_type": "stream",
     "text": [
      "The accuracy is:  0.4680797456460495\n"
     ]
    }
   ],
   "source": [
    "model = DecisionTreeRegressor()\n",
    "model.fit(X_train, y_train)\n",
    "DecisionTreeRegressor()\n",
    "accuracyd_YellowCab = model.score(X_test,y_test)\n",
    "print('The accuracy is: ', accuracyd_YellowCab)\n",
    "\n"
   ]
  },
  {
   "cell_type": "code",
   "execution_count": 28,
   "id": "8e5e0fca",
   "metadata": {},
   "outputs": [
    {
     "name": "stdout",
     "output_type": "stream",
     "text": [
      "Train score : 56.05418447867246\n",
      "Test score : 150.54193106858702\n"
     ]
    }
   ],
   "source": [
    "#Random Forest\n",
    "\n",
    "#Yellow Cab\n",
    "rf = RandomForestRegressor(n_estimators = 100, random_state = 0)\n",
    "rf.fit(X_train, y_train)\n",
    " \n",
    "preds_valid = rf.predict(X_train)\n",
    "\n",
    "rmse = np.sqrt(mean_squared_error(y_train, preds_valid))\n",
    " \n",
    "print(f'Train score : {rmse}')\n",
    "predicted = rf.predict(X_test)\n",
    "rmse = np.sqrt(mean_squared_error(y_test, predicted))\n",
    "print(f'Test score : {rmse}')\n"
   ]
  },
  {
   "cell_type": "code",
   "execution_count": 29,
   "id": "d3f31eb1",
   "metadata": {},
   "outputs": [
    {
     "name": "stdout",
     "output_type": "stream",
     "text": [
      "The accuracy is:  0.7279849714001346\n"
     ]
    }
   ],
   "source": [
    "model = RandomForestRegressor(n_estimators = 100, random_state = 0) \n",
    "model.fit(X_train, y_train)\n",
    "RandomForestRegressor(n_estimators = 100, random_state = 0)\n",
    "accuracyrf_YellowCab = model.score(X_test,y_test)\n",
    "print('The accuracy is: ', accuracyrf_YellowCab)\n",
    "\n"
   ]
  },
  {
   "cell_type": "code",
   "execution_count": 30,
   "id": "a4a4b5ae",
   "metadata": {},
   "outputs": [
    {
     "name": "stdout",
     "output_type": "stream",
     "text": [
      "Train score : 128.1342040274574\n",
      "Test score : 134.9287638326252\n"
     ]
    }
   ],
   "source": [
    "#Yellow Cab\n",
    "gb_model = XGBRegressor(n_estimators = 1000, learning_rate = 0.05) \n",
    "gb_model.fit(X_train, y_train)\n",
    " \n",
    "preds_valid = gb_model.predict(X_train)\n",
    "\n",
    "rmse = np.sqrt(mean_squared_error(y_train, preds_valid)) \n",
    "print(f'Train score : {rmse}')\n",
    "predicted = gb_model.predict(X_test)\n",
    "rmse = np.sqrt(mean_squared_error(y_test, predicted))\n",
    "print(f'Test score : {rmse}')\n"
   ]
  },
  {
   "cell_type": "code",
   "execution_count": 31,
   "id": "60053243",
   "metadata": {},
   "outputs": [
    {
     "name": "stdout",
     "output_type": "stream",
     "text": [
      "The accuracy is:  0.7814821006474011\n"
     ]
    }
   ],
   "source": [
    "model = XGBRegressor(n_estimators = 1000, learning_rate = 0.05)\n",
    "model.fit(X_train, y_train)\n",
    "XGBRegressor(n_estimators = 1000, learning_rate = 0.05)\n",
    "accuracygb_YellowCab = model.score(X_test,y_test)\n",
    "print('The accuracy is: ', accuracygb_YellowCab)\n"
   ]
  },
  {
   "cell_type": "code",
   "execution_count": 32,
   "id": "fd6af076",
   "metadata": {},
   "outputs": [
    {
     "name": "stderr",
     "output_type": "stream",
     "text": [
      "C:\\Users\\iTs\\anaconda3\\lib\\site-packages\\lightgbm\\sklearn.py:726: UserWarning: 'early_stopping_rounds' argument is deprecated and will be removed in a future release of LightGBM. Pass 'early_stopping()' callback via 'callbacks' argument instead.\n",
      "  _log_warning(\"'early_stopping_rounds' argument is deprecated and will be removed in a future release of LightGBM. \"\n",
      "C:\\Users\\iTs\\anaconda3\\lib\\site-packages\\lightgbm\\sklearn.py:736: UserWarning: 'verbose' argument is deprecated and will be removed in a future release of LightGBM. Pass 'log_evaluation()' callback via 'callbacks' argument instead.\n",
      "  _log_warning(\"'verbose' argument is deprecated and will be removed in a future release of LightGBM. \"\n"
     ]
    },
    {
     "name": "stdout",
     "output_type": "stream",
     "text": [
      "Train score : 133.04133225355477\n",
      "Test score : 139.53695721439757\n"
     ]
    }
   ],
   "source": [
    "#Yellow Cab\n",
    "lgbm_model = LGBMRegressor(metric = 'rmse', n_jobs = -1, n_estimators = 5000, learning_rate = 0.01)\n",
    "lgbm_model.fit(X_train,  y_train, \n",
    "               eval_set = [(X_test,  y_test)],\n",
    "               early_stopping_rounds = 40,\n",
    "               verbose = False)\n",
    "\n",
    "preds_valid = lgbm_model.predict(X_train)\n",
    "\n",
    "rmse = np.sqrt(mean_squared_error(y_train, preds_valid)) \n",
    "print(f'Train score : {rmse}')\n",
    "predicted = lgbm_model.predict(X_test)\n",
    "rmse = np.sqrt(mean_squared_error(y_test, predicted))\n",
    "print(f'Test score : {rmse}')\n"
   ]
  },
  {
   "cell_type": "code",
   "execution_count": 33,
   "id": "24efddd6",
   "metadata": {},
   "outputs": [
    {
     "name": "stdout",
     "output_type": "stream",
     "text": [
      "The accuracy is:  0.7663012278460316\n"
     ]
    }
   ],
   "source": [
    "model = LGBMRegressor(metric = 'rmse', n_jobs = -1, n_estimators = 5000, learning_rate = 0.01)\n",
    "model.fit(X_train, y_train)\n",
    "LGBMRegressor(metric = 'rmse', n_jobs = -1, n_estimators = 5000, learning_rate = 0.01)\n",
    "accuracylgbm_YellowCab = model.score(X_test,y_test)\n",
    "print('The accuracy is: ',  accuracylgbm_YellowCab)\n"
   ]
  },
  {
   "cell_type": "code",
   "execution_count": 35,
   "id": "5c8117f0",
   "metadata": {},
   "outputs": [
    {
     "name": "stdout",
     "output_type": "stream",
     "text": [
      "Train score : 67.38846921384408\n",
      "Test score : 67.98726328989346\n"
     ]
    }
   ],
   "source": [
    "#Pink Cab\n",
    "X_train, X_test, y_train, y_test = train_test_split(PinkCab_X, PinkCab_y, test_size=0.2, random_state=42) \n",
    "\n",
    "model_simple_linear = LinearRegression(fit_intercept=True) # data is not centered, we need an intercept!\n",
    "model_simple_linear.fit(X_train, y_train)\n",
    "preds_valid = model_simple_linear.predict(X_train)\n",
    "rmse = np.sqrt(mean_squared_error(y_train, preds_valid))\n",
    "print(f'Train score : {rmse}')\n",
    "predicted = model_simple_linear.predict(X_test)\n",
    "rmse = np.sqrt(mean_squared_error(y_test, predicted))\n",
    "print(f'Test score : {rmse}')\n"
   ]
  },
  {
   "cell_type": "code",
   "execution_count": 36,
   "id": "bcefb877",
   "metadata": {},
   "outputs": [
    {
     "name": "stdout",
     "output_type": "stream",
     "text": [
      "The accuracy is:  0.8600088200328847\n"
     ]
    }
   ],
   "source": [
    "model = LinearRegression(fit_intercept=True)\n",
    "model.fit(X_train, y_train)\n",
    "LinearRegression()\n",
    "accuracyl_PinkCab = model.score(X_test,y_test)\n",
    "print('The accuracy is: ', accuracyl_PinkCab)\n"
   ]
  },
  {
   "cell_type": "code",
   "execution_count": 37,
   "id": "75474a3c",
   "metadata": {},
   "outputs": [
    {
     "name": "stdout",
     "output_type": "stream",
     "text": [
      "Train score : 0.0\n",
      "Test score : 98.78242706324811\n"
     ]
    }
   ],
   "source": [
    "dtree = DecisionTreeRegressor()\n",
    "\n",
    "dtree.fit(X_train, y_train)\n",
    "\n",
    "preds_valid = dtree.predict(X_train)\n",
    "\n",
    "rmse = np.sqrt(mean_squared_error(y_train, preds_valid)) \n",
    "print(f'Train score : {rmse}')\n",
    "predicted = dtree.predict(X_test)\n",
    "rmse = np.sqrt(mean_squared_error(y_test, predicted))\n",
    "print(f'Test score : {rmse}')\n"
   ]
  },
  {
   "cell_type": "code",
   "execution_count": 38,
   "id": "26dfb175",
   "metadata": {},
   "outputs": [
    {
     "name": "stdout",
     "output_type": "stream",
     "text": [
      "The accuracy is:  0.7057234792674434\n"
     ]
    }
   ],
   "source": [
    "model = DecisionTreeRegressor()\n",
    "model.fit(X_train, y_train)\n",
    "DecisionTreeRegressor()\n",
    "accuracyd_PinkCab = model.score(X_test,y_test)\n",
    "print('The accuracy is: ' , accuracyd_PinkCab)\n"
   ]
  },
  {
   "cell_type": "code",
   "execution_count": 39,
   "id": "7966b5c6",
   "metadata": {},
   "outputs": [
    {
     "name": "stdout",
     "output_type": "stream",
     "text": [
      "Train score : 25.858508932989594\n",
      "Test score : 69.71772672156538\n"
     ]
    }
   ],
   "source": [
    "#Random Forest\n",
    "\n",
    "rf = RandomForestRegressor(n_estimators = 100, random_state = 0)\n",
    "rf.fit(X_train, y_train)\n",
    " \n",
    "preds_valid = rf.predict(X_train)\n",
    "\n",
    "rmse = np.sqrt(mean_squared_error(y_train, preds_valid)) \n",
    "print(f'Train score : {rmse}')\n",
    "predicted = rf.predict(X_test)\n",
    "rmse = np.sqrt(mean_squared_error(y_test, predicted))\n",
    "print(f'Test score : {rmse}')\n"
   ]
  },
  {
   "cell_type": "code",
   "execution_count": 40,
   "id": "ad1997ef",
   "metadata": {},
   "outputs": [
    {
     "name": "stdout",
     "output_type": "stream",
     "text": [
      "The accuracy is:  0.8527918041862741\n"
     ]
    }
   ],
   "source": [
    "model = RandomForestRegressor(n_estimators = 100, random_state = 0) \n",
    "model.fit(X_train, y_train)\n",
    "RandomForestRegressor(n_estimators = 100, random_state = 0)\n",
    "accuracyrf_PinkCab = model.score(X_test,y_test)\n",
    "print('The accuracy is: ' , accuracyrf_PinkCab)\n",
    "\n"
   ]
  },
  {
   "cell_type": "code",
   "execution_count": 41,
   "id": "36fda905",
   "metadata": {},
   "outputs": [
    {
     "name": "stdout",
     "output_type": "stream",
     "text": [
      "Train score : 56.257579458387525\n",
      "Test score : 68.05501636022264\n"
     ]
    }
   ],
   "source": [
    "#Pink Cab\n",
    "gb_model = XGBRegressor(n_estimators = 1000, learning_rate = 0.05) \n",
    "gb_model.fit(X_train, y_train)\n",
    " \n",
    "preds_valid = gb_model.predict(X_train)\n",
    "\n",
    "rmse = np.sqrt(mean_squared_error(y_train, preds_valid)) \n",
    "print(f'Train score : {rmse}')\n",
    "predicted = gb_model.predict(X_test)\n",
    "rmse = np.sqrt(mean_squared_error(y_test, predicted))\n",
    "print(f'Test score : {rmse}')\n"
   ]
  },
  {
   "cell_type": "code",
   "execution_count": 42,
   "id": "a8ee4ff1",
   "metadata": {},
   "outputs": [
    {
     "name": "stdout",
     "output_type": "stream",
     "text": [
      "The accuracy is:  0.8597296630884013\n"
     ]
    }
   ],
   "source": [
    "model = XGBRegressor(n_estimators = 1000, learning_rate = 0.05)\n",
    "model.fit(X_train, y_train)\n",
    "XGBRegressor(n_estimators = 1000, learning_rate = 0.05)\n",
    "accuracygb_PinkCab = model.score(X_test,y_test)\n",
    "print('The accuracy is: ',  accuracygb_PinkCab)\n"
   ]
  },
  {
   "cell_type": "code",
   "execution_count": 43,
   "id": "3f6a9cb9",
   "metadata": {},
   "outputs": [
    {
     "name": "stderr",
     "output_type": "stream",
     "text": [
      "C:\\Users\\iTs\\anaconda3\\lib\\site-packages\\lightgbm\\sklearn.py:726: UserWarning: 'early_stopping_rounds' argument is deprecated and will be removed in a future release of LightGBM. Pass 'early_stopping()' callback via 'callbacks' argument instead.\n",
      "  _log_warning(\"'early_stopping_rounds' argument is deprecated and will be removed in a future release of LightGBM. \"\n",
      "C:\\Users\\iTs\\anaconda3\\lib\\site-packages\\lightgbm\\sklearn.py:736: UserWarning: 'verbose' argument is deprecated and will be removed in a future release of LightGBM. Pass 'log_evaluation()' callback via 'callbacks' argument instead.\n",
      "  _log_warning(\"'verbose' argument is deprecated and will be removed in a future release of LightGBM. \"\n"
     ]
    },
    {
     "name": "stdout",
     "output_type": "stream",
     "text": [
      "Train score : 65.33921341293481\n",
      "Test score : 67.21044264668784\n"
     ]
    }
   ],
   "source": [
    "lgbm_model = LGBMRegressor(metric = 'rmse', n_jobs = -1, n_estimators = 5000, learning_rate = 0.01)\n",
    "lgbm_model.fit(X_train,  y_train, \n",
    "               eval_set = [(X_test,  y_test)],\n",
    "               early_stopping_rounds = 40,\n",
    "               verbose = False)\n",
    "\n",
    "preds_valid = lgbm_model.predict(X_train)\n",
    "\n",
    "rmse = np.sqrt(mean_squared_error(y_train, preds_valid)) \n",
    "print(f'Train score : {rmse}')\n",
    "\n",
    "predicted = lgbm_model.predict(X_test)\n",
    "rmse = np.sqrt(mean_squared_error(y_test, predicted))\n",
    "print(f'Test score : {rmse}')\n",
    "\n"
   ]
  },
  {
   "cell_type": "code",
   "execution_count": 44,
   "id": "e414216e",
   "metadata": {},
   "outputs": [
    {
     "name": "stdout",
     "output_type": "stream",
     "text": [
      "The accuracy is:  0.8595862480923745\n"
     ]
    }
   ],
   "source": [
    "model = LGBMRegressor(metric = 'rmse', n_jobs = -1, n_estimators = 5000, learning_rate = 0.01)\n",
    "model.fit(X_train, y_train)\n",
    "LGBMRegressor(metric = 'rmse', n_jobs = -1, n_estimators = 5000, learning_rate = 0.01)\n",
    "accuracylgbm_PinkCab = model.score(X_test,y_test)\n",
    "print('The accuracy is: ' , accuracylgbm_PinkCab)\n",
    "\n"
   ]
  },
  {
   "cell_type": "code",
   "execution_count": 45,
   "id": "650be2d4",
   "metadata": {},
   "outputs": [
    {
     "data": {
      "text/html": [
       "<div>\n",
       "<style scoped>\n",
       "    .dataframe tbody tr th:only-of-type {\n",
       "        vertical-align: middle;\n",
       "    }\n",
       "\n",
       "    .dataframe tbody tr th {\n",
       "        vertical-align: top;\n",
       "    }\n",
       "\n",
       "    .dataframe thead th {\n",
       "        text-align: right;\n",
       "    }\n",
       "</style>\n",
       "<table border=\"1\" class=\"dataframe\">\n",
       "  <thead>\n",
       "    <tr style=\"text-align: right;\">\n",
       "      <th></th>\n",
       "      <th>Accuracy</th>\n",
       "    </tr>\n",
       "  </thead>\n",
       "  <tbody>\n",
       "    <tr>\n",
       "      <th>Linear Regression</th>\n",
       "      <td>74.15043837937296%</td>\n",
       "    </tr>\n",
       "    <tr>\n",
       "      <th>Decision Tree</th>\n",
       "      <td>46.80797456460495%</td>\n",
       "    </tr>\n",
       "    <tr>\n",
       "      <th>Random Forest</th>\n",
       "      <td>72.79849714001347%</td>\n",
       "    </tr>\n",
       "    <tr>\n",
       "      <th>Gradient Boosting</th>\n",
       "      <td>78.14821006474011%</td>\n",
       "    </tr>\n",
       "    <tr>\n",
       "      <th>Light Gradient Boosting</th>\n",
       "      <td>76.63012278460316%</td>\n",
       "    </tr>\n",
       "  </tbody>\n",
       "</table>\n",
       "</div>"
      ],
      "text/plain": [
       "                                   Accuracy\n",
       "Linear Regression        74.15043837937296%\n",
       "Decision Tree            46.80797456460495%\n",
       "Random Forest            72.79849714001347%\n",
       "Gradient Boosting        78.14821006474011%\n",
       "Light Gradient Boosting  76.63012278460316%"
      ]
     },
     "execution_count": 45,
     "metadata": {},
     "output_type": "execute_result"
    }
   ],
   "source": [
    "results = pd.DataFrame([str(accuracyl_YellowCab *100) + '%', str(accuracyd_YellowCab *100) + '%',str(accuracyrf_YellowCab *100) + '%',str(accuracygb_YellowCab *100) + '%', str(accuracylgbm_YellowCab *100) + '%'],\n",
    "                            index=['Linear Regression',\n",
    "                                  'Decision Tree', 'Random Forest','Gradient Boosting', 'Light Gradient Boosting'],columns=['Accuracy'])\n",
    "results\n",
    "\n",
    "\n"
   ]
  },
  {
   "cell_type": "code",
   "execution_count": 46,
   "id": "0c5cc447",
   "metadata": {},
   "outputs": [
    {
     "data": {
      "text/html": [
       "<div>\n",
       "<style scoped>\n",
       "    .dataframe tbody tr th:only-of-type {\n",
       "        vertical-align: middle;\n",
       "    }\n",
       "\n",
       "    .dataframe tbody tr th {\n",
       "        vertical-align: top;\n",
       "    }\n",
       "\n",
       "    .dataframe thead th {\n",
       "        text-align: right;\n",
       "    }\n",
       "</style>\n",
       "<table border=\"1\" class=\"dataframe\">\n",
       "  <thead>\n",
       "    <tr style=\"text-align: right;\">\n",
       "      <th></th>\n",
       "      <th>Accuracy</th>\n",
       "    </tr>\n",
       "  </thead>\n",
       "  <tbody>\n",
       "    <tr>\n",
       "      <th>Linear Regression</th>\n",
       "      <td>86.00088200328847%</td>\n",
       "    </tr>\n",
       "    <tr>\n",
       "      <th>Decision Tree</th>\n",
       "      <td>70.57234792674434%</td>\n",
       "    </tr>\n",
       "    <tr>\n",
       "      <th>Random Forest</th>\n",
       "      <td>85.2791804186274%</td>\n",
       "    </tr>\n",
       "    <tr>\n",
       "      <th>Gradient Boosting</th>\n",
       "      <td>85.97296630884013%</td>\n",
       "    </tr>\n",
       "    <tr>\n",
       "      <th>Light Gradient Boosting</th>\n",
       "      <td>85.95862480923745%</td>\n",
       "    </tr>\n",
       "  </tbody>\n",
       "</table>\n",
       "</div>"
      ],
      "text/plain": [
       "                                   Accuracy\n",
       "Linear Regression        86.00088200328847%\n",
       "Decision Tree            70.57234792674434%\n",
       "Random Forest             85.2791804186274%\n",
       "Gradient Boosting        85.97296630884013%\n",
       "Light Gradient Boosting  85.95862480923745%"
      ]
     },
     "execution_count": 46,
     "metadata": {},
     "output_type": "execute_result"
    }
   ],
   "source": [
    "results = pd.DataFrame([str(accuracyl_PinkCab *100) + '%', str(accuracyd_PinkCab *100) + '%',str(accuracyrf_PinkCab *100) + '%',str(accuracygb_PinkCab *100) + '%', str(accuracylgbm_PinkCab *100) + '%'],\n",
    "             \n",
    "                             index=['Linear Regression',\n",
    "                                  'Decision Tree', 'Random Forest', 'Gradient Boosting', 'Light Gradient Boosting'],columns=['Accuracy'])\n",
    "results"
   ]
  },
  {
   "cell_type": "raw",
   "id": "f343ac81",
   "metadata": {},
   "source": [
    "Conclusion:For the Yellow Cab the best accuracy value is 78.14821006474011%  and it is reached with \n",
    "radient Boosted model, while the best accuracy value for the Pink Cab is 86.00088200328847% \n",
    "and it is reached with Linear Regression model."
   ]
  }
 ],
 "metadata": {
  "kernelspec": {
   "display_name": "Python 3 (ipykernel)",
   "language": "python",
   "name": "python3"
  },
  "language_info": {
   "codemirror_mode": {
    "name": "ipython",
    "version": 3
   },
   "file_extension": ".py",
   "mimetype": "text/x-python",
   "name": "python",
   "nbconvert_exporter": "python",
   "pygments_lexer": "ipython3",
   "version": "3.9.7"
  }
 },
 "nbformat": 4,
 "nbformat_minor": 5
}
