{
 "cells": [
  {
   "cell_type": "code",
   "execution_count": 1,
   "id": "3c6642e3",
   "metadata": {},
   "outputs": [],
   "source": [
    "# data visualization\n",
    "%matplotlib inline\n",
    "from matplotlib import pyplot as plt\n",
    "import seaborn as sns\n",
    "\n",
    "# linear algebra\n",
    "import numpy as np\n",
    "\n",
    "# data processing\n",
    "import pandas as pd\n",
    "\n",
    "# algorithms\n",
    "from sklearn.ensemble import RandomForestClassifier\n",
    "from sklearn.linear_model import LogisticRegression, Perceptron, SGDClassifier\n",
    "from sklearn.naive_bayes import GaussianNB\n",
    "from sklearn.neighbors import KNeighborsClassifier\n",
    "from sklearn.metrics import accuracy_score\n",
    "from sklearn.model_selection import cross_val_score, train_test_split\n",
    "from sklearn.tree import DecisionTreeClassifier\n",
    "from sklearn.svm import LinearSVC\n",
    "\n",
    "# serializing\n",
    "import pickle\n"
   ]
  },
  {
   "cell_type": "code",
   "execution_count": 2,
   "id": "75809d73",
   "metadata": {},
   "outputs": [],
   "source": [
    "# create df\n",
    "train = pd.read_csv('titanic.csv')\n",
    "\n",
    "# drop null values\n",
    "train.dropna(inplace=True)\n",
    "\n",
    "# features and target\n",
    "target = 'Survived'\n",
    "features = ['Pclass', 'Age', 'SibSp', 'Fare'] \n",
    "\n",
    "# X matrix, y vector\n",
    "X = train[features]\n",
    "y = train[target]\n",
    "\n",
    "\n",
    "train_X, test_X, train_y, test_y = train_test_split(X, y, test_size = 0.2, random_state=0)\n"
   ]
  },
  {
   "cell_type": "code",
   "execution_count": 3,
   "id": "7dbfee2f",
   "metadata": {},
   "outputs": [
    {
     "data": {
      "text/plain": [
       "array([1, 1, 0, 0, 1, 1, 1, 1, 1, 0, 1, 1, 1, 1, 1, 1, 1, 1, 0, 1, 1, 1,\n",
       "       1, 1, 0, 1, 1, 0, 1, 1, 1, 0, 1, 1, 1, 1, 1], dtype=int64)"
      ]
     },
     "execution_count": 3,
     "metadata": {},
     "output_type": "execute_result"
    }
   ],
   "source": [
    "# Logistic Regression\n",
    "lr = LogisticRegression()\n",
    "\n",
    "lr.fit(train_X, train_y)\n",
    "\n",
    "lr_predictions = lr.predict(test_X)\n",
    "lr_predictions\n"
   ]
  },
  {
   "cell_type": "code",
   "execution_count": 4,
   "id": "52ff7888",
   "metadata": {},
   "outputs": [
    {
     "data": {
      "text/plain": [
       "array([0, 0, 1, 0, 1, 0, 1, 1, 1, 1, 0, 1, 0, 0, 1, 0, 1, 1, 0, 1, 1, 1,\n",
       "       1, 0, 0, 1, 1, 1, 1, 0, 1, 0, 1, 1, 1, 1, 1], dtype=int64)"
      ]
     },
     "execution_count": 4,
     "metadata": {},
     "output_type": "execute_result"
    }
   ],
   "source": [
    "# Stochastic Gradient Descent (SGD)\n",
    "sgd = SGDClassifier(max_iter=5, tol=None)\n",
    "\n",
    "sgd.fit(train_X, train_y)\n",
    "\n",
    "sgd_predictions = sgd.predict(test_X)\n",
    "sgd_predictions\n"
   ]
  },
  {
   "cell_type": "code",
   "execution_count": 5,
   "id": "7a22a238",
   "metadata": {},
   "outputs": [
    {
     "data": {
      "text/plain": [
       "array([1, 0, 1, 0, 1, 0, 1, 0, 1, 1, 1, 1, 0, 0, 1, 1, 1, 1, 1, 1, 1, 0,\n",
       "       0, 1, 0, 1, 0, 0, 1, 1, 1, 0, 1, 1, 0, 1, 1], dtype=int64)"
      ]
     },
     "execution_count": 5,
     "metadata": {},
     "output_type": "execute_result"
    }
   ],
   "source": [
    "# Random Forest\n",
    "rf = RandomForestClassifier(n_estimators=100)\n",
    "\n",
    "rf.fit(train_X, train_y)\n",
    "\n",
    "rf_predictions = rf.predict(test_X)\n",
    "rf_predictions\n"
   ]
  },
  {
   "cell_type": "code",
   "execution_count": 6,
   "id": "fc048a32",
   "metadata": {},
   "outputs": [
    {
     "data": {
      "text/plain": [
       "array([1, 1, 1, 0, 1, 0, 1, 0, 1, 1, 1, 1, 1, 0, 1, 1, 1, 1, 1, 1, 1, 0,\n",
       "       1, 0, 0, 1, 0, 1, 1, 1, 0, 1, 1, 1, 0, 1, 1], dtype=int64)"
      ]
     },
     "execution_count": 6,
     "metadata": {},
     "output_type": "execute_result"
    }
   ],
   "source": [
    "# K Nearest Neighbor\n",
    "knn = KNeighborsClassifier(n_neighbors = 3)\n",
    "\n",
    "knn.fit(train_X, train_y)\n",
    "\n",
    "knn_predictions = knn.predict(test_X)\n",
    "knn_predictions\n"
   ]
  },
  {
   "cell_type": "code",
   "execution_count": 7,
   "id": "e15be39e",
   "metadata": {},
   "outputs": [
    {
     "data": {
      "text/plain": [
       "array([0, 0, 1, 0, 1, 1, 1, 1, 1, 0, 0, 1, 1, 1, 1, 0, 1, 1, 0, 1, 1, 1,\n",
       "       1, 0, 0, 1, 1, 0, 1, 1, 1, 0, 1, 1, 1, 1, 1], dtype=int64)"
      ]
     },
     "execution_count": 7,
     "metadata": {},
     "output_type": "execute_result"
    }
   ],
   "source": [
    "# Gaussian Naive Bayes\n",
    "gnb = GaussianNB()\n",
    "\n",
    "gnb.fit(train_X, train_y)\n",
    "\n",
    "gnb_predictions = gnb.predict(test_X)\n",
    "gnb_predictions\n"
   ]
  },
  {
   "cell_type": "code",
   "execution_count": 8,
   "id": "0fcd551f",
   "metadata": {},
   "outputs": [
    {
     "data": {
      "text/plain": [
       "array([1, 1, 1, 1, 1, 1, 1, 1, 1, 1, 1, 1, 1, 1, 1, 1, 1, 1, 1, 1, 1, 1,\n",
       "       1, 1, 1, 1, 1, 1, 1, 1, 1, 1, 1, 1, 1, 1, 1], dtype=int64)"
      ]
     },
     "execution_count": 8,
     "metadata": {},
     "output_type": "execute_result"
    }
   ],
   "source": [
    "# Perceptron\n",
    "perceptron = Perceptron(max_iter=10)\n",
    "\n",
    "perceptron.fit(train_X, train_y)\n",
    "\n",
    "perceptron_predictions = perceptron.predict(test_X)\n",
    "perceptron_predictions\n"
   ]
  },
  {
   "cell_type": "code",
   "execution_count": 9,
   "id": "b2a06dec",
   "metadata": {},
   "outputs": [
    {
     "name": "stderr",
     "output_type": "stream",
     "text": [
      "C:\\Users\\iTs\\anaconda3\\lib\\site-packages\\sklearn\\svm\\_base.py:985: ConvergenceWarning: Liblinear failed to converge, increase the number of iterations.\n",
      "  warnings.warn(\"Liblinear failed to converge, increase \"\n"
     ]
    },
    {
     "data": {
      "text/plain": [
       "array([1, 1, 1, 1, 1, 1, 1, 1, 1, 1, 1, 1, 1, 1, 1, 1, 1, 1, 1, 1, 1, 1,\n",
       "       1, 1, 1, 1, 1, 1, 1, 1, 1, 1, 1, 1, 1, 1, 1], dtype=int64)"
      ]
     },
     "execution_count": 9,
     "metadata": {},
     "output_type": "execute_result"
    }
   ],
   "source": [
    "# Linear Support Vector Machine\n",
    "linear_svc = LinearSVC()\n",
    "\n",
    "linear_svc.fit(train_X, train_y)\n",
    "\n",
    "linear_svc_predictions = linear_svc.predict(test_X)\n",
    "linear_svc_predictions\n"
   ]
  },
  {
   "cell_type": "code",
   "execution_count": 10,
   "id": "1bcf70d4",
   "metadata": {},
   "outputs": [
    {
     "data": {
      "text/plain": [
       "array([1, 0, 1, 0, 1, 0, 1, 0, 1, 0, 1, 1, 0, 0, 1, 1, 1, 1, 1, 1, 0, 0,\n",
       "       0, 1, 0, 1, 1, 1, 1, 1, 0, 0, 1, 1, 0, 1, 1], dtype=int64)"
      ]
     },
     "execution_count": 10,
     "metadata": {},
     "output_type": "execute_result"
    }
   ],
   "source": [
    "# Decision Tree\n",
    "dt = DecisionTreeClassifier()\n",
    "\n",
    "dt.fit(train_X, train_y)\n",
    "\n",
    "dt_predictions = dt.predict(test_X)\n",
    "dt_predictions\n",
    "\n"
   ]
  },
  {
   "cell_type": "code",
   "execution_count": 11,
   "id": "b5339da4",
   "metadata": {},
   "outputs": [],
   "source": [
    "# Score models\n",
    "# Logistic Regression\n",
    "lr_accuracy = accuracy_score(test_y, lr_predictions)\n",
    "\n",
    "# Stochastic Gradient Descent (SGD)\n",
    "sgd_accuracy = accuracy_score(test_y, sgd_predictions)\n",
    "\n",
    "# Random Forest\n",
    "rf_accuracy = accuracy_score(test_y, rf_predictions)\n",
    "\n",
    "# K Nearest Neighbor\n",
    "knn_accuracy = accuracy_score(test_y, knn_predictions)\n",
    "\n",
    "# Gaussian Naive Bayes\n",
    "gnb_accuracy = accuracy_score(test_y, gnb_predictions)\n",
    "\n",
    "# Perceptron\n",
    "perceptron_accuracy = accuracy_score(test_y, perceptron_predictions)\n",
    "\n",
    "# Linear Support Vector Machine\n",
    "linear_svc_accuracy = accuracy_score(test_y, linear_svc_predictions)\n",
    "\n",
    "# Decision Tree\n",
    "dt_accuracy = accuracy_score(test_y, dt_predictions)\n"
   ]
  },
  {
   "cell_type": "code",
   "execution_count": 12,
   "id": "8d04f8af",
   "metadata": {},
   "outputs": [
    {
     "data": {
      "text/html": [
       "<div>\n",
       "<style scoped>\n",
       "    .dataframe tbody tr th:only-of-type {\n",
       "        vertical-align: middle;\n",
       "    }\n",
       "\n",
       "    .dataframe tbody tr th {\n",
       "        vertical-align: top;\n",
       "    }\n",
       "\n",
       "    .dataframe thead th {\n",
       "        text-align: right;\n",
       "    }\n",
       "</style>\n",
       "<table border=\"1\" class=\"dataframe\">\n",
       "  <thead>\n",
       "    <tr style=\"text-align: right;\">\n",
       "      <th></th>\n",
       "      <th>Model</th>\n",
       "      <th>Score</th>\n",
       "    </tr>\n",
       "  </thead>\n",
       "  <tbody>\n",
       "    <tr>\n",
       "      <th>5</th>\n",
       "      <td>Perceptron</td>\n",
       "      <td>0.810811</td>\n",
       "    </tr>\n",
       "    <tr>\n",
       "      <th>6</th>\n",
       "      <td>Linear Support Vector Machine</td>\n",
       "      <td>0.810811</td>\n",
       "    </tr>\n",
       "    <tr>\n",
       "      <th>0</th>\n",
       "      <td>Logistic Regression</td>\n",
       "      <td>0.675676</td>\n",
       "    </tr>\n",
       "    <tr>\n",
       "      <th>1</th>\n",
       "      <td>Stochastic Gradient Descent (SGD)</td>\n",
       "      <td>0.675676</td>\n",
       "    </tr>\n",
       "    <tr>\n",
       "      <th>3</th>\n",
       "      <td>K Nearest Neighbor</td>\n",
       "      <td>0.648649</td>\n",
       "    </tr>\n",
       "    <tr>\n",
       "      <th>2</th>\n",
       "      <td>Random Forest</td>\n",
       "      <td>0.621622</td>\n",
       "    </tr>\n",
       "    <tr>\n",
       "      <th>4</th>\n",
       "      <td>Gaussian Naive Bayes</td>\n",
       "      <td>0.621622</td>\n",
       "    </tr>\n",
       "    <tr>\n",
       "      <th>7</th>\n",
       "      <td>Decision Tree</td>\n",
       "      <td>0.594595</td>\n",
       "    </tr>\n",
       "  </tbody>\n",
       "</table>\n",
       "</div>"
      ],
      "text/plain": [
       "                               Model     Score\n",
       "5                         Perceptron  0.810811\n",
       "6      Linear Support Vector Machine  0.810811\n",
       "0                Logistic Regression  0.675676\n",
       "1  Stochastic Gradient Descent (SGD)  0.675676\n",
       "3                 K Nearest Neighbor  0.648649\n",
       "2                      Random Forest  0.621622\n",
       "4               Gaussian Naive Bayes  0.621622\n",
       "7                      Decision Tree  0.594595"
      ]
     },
     "execution_count": 12,
     "metadata": {},
     "output_type": "execute_result"
    }
   ],
   "source": [
    "# create new dataframe\n",
    "results = pd.DataFrame({\n",
    "    'Model': ['Logistic Regression',\n",
    "              'Stochastic Gradient Descent (SGD)',\n",
    "              'Random Forest', \n",
    "              'K Nearest Neighbor',\n",
    "              'Gaussian Naive Bayes',\n",
    "              'Perceptron', \n",
    "              'Linear Support Vector Machine', \n",
    "              'Decision Tree'],\n",
    "    'Score': [lr_accuracy,\n",
    "              sgd_accuracy,\n",
    "              rf_accuracy, \n",
    "              knn_accuracy,\n",
    "              gnb_accuracy,\n",
    "              perceptron_accuracy, \n",
    "              linear_svc_accuracy,\n",
    "              dt_accuracy]\n",
    "})\n",
    "\n",
    "# sort results by 'Score'\n",
    "result_df = results.sort_values(by='Score', ascending=False)\n",
    "\n",
    "# preview the dataframe\n",
    "result_df.head(8)\n"
   ]
  },
  {
   "cell_type": "raw",
   "id": "301d9754",
   "metadata": {},
   "source": [
    "#The greater value of accuracy is reached with Perceptron and Linear SVM\n",
    "# select model\n",
    "model = perceptron\n",
    "model.fit(train_X,train_y)\n",
    "model.score(train_X,train_y)\n"
   ]
  }
 ],
 "metadata": {
  "kernelspec": {
   "display_name": "Python 3 (ipykernel)",
   "language": "python",
   "name": "python3"
  },
  "language_info": {
   "codemirror_mode": {
    "name": "ipython",
    "version": 3
   },
   "file_extension": ".py",
   "mimetype": "text/x-python",
   "name": "python",
   "nbconvert_exporter": "python",
   "pygments_lexer": "ipython3",
   "version": "3.9.7"
  }
 },
 "nbformat": 4,
 "nbformat_minor": 5
}
